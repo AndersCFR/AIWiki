{
 "cells": [
  {
   "cell_type": "markdown",
   "id": "moving-service",
   "metadata": {},
   "source": [
    "# Análisis de Datos de Empresas constituidas en la Pandemia"
   ]
  },
  {
   "cell_type": "code",
   "execution_count": 1,
   "id": "established-utilization",
   "metadata": {},
   "outputs": [],
   "source": [
    "import pandas as pd\n",
    "import numpy as np\n",
    "import matplotlib.pyplot as plt"
   ]
  },
  {
   "cell_type": "markdown",
   "id": "possible-beginning",
   "metadata": {},
   "source": [
    "### Importación  de información"
   ]
  },
  {
   "cell_type": "code",
   "execution_count": 12,
   "id": "unlike-optimization",
   "metadata": {},
   "outputs": [],
   "source": [
    "data = pd.read_csv('DatosEmpresa.csv',sep=';',decimal=',')"
   ]
  },
  {
   "cell_type": "code",
   "execution_count": 13,
   "id": "signal-quebec",
   "metadata": {},
   "outputs": [
    {
     "data": {
      "text/html": [
       "<div>\n",
       "<style scoped>\n",
       "    .dataframe tbody tr th:only-of-type {\n",
       "        vertical-align: middle;\n",
       "    }\n",
       "\n",
       "    .dataframe tbody tr th {\n",
       "        vertical-align: top;\n",
       "    }\n",
       "\n",
       "    .dataframe thead th {\n",
       "        text-align: right;\n",
       "    }\n",
       "</style>\n",
       "<table border=\"1\" class=\"dataframe\">\n",
       "  <thead>\n",
       "    <tr style=\"text-align: right;\">\n",
       "      <th></th>\n",
       "      <th>EXPEDIENTE</th>\n",
       "      <th>TIPO</th>\n",
       "      <th>ACTIVIDAD</th>\n",
       "      <th>REGIÓN</th>\n",
       "      <th>PROVINCIA</th>\n",
       "      <th>TAMAÑO</th>\n",
       "      <th>SECTOR</th>\n",
       "      <th>EMPLEADOS</th>\n",
       "      <th>ACTIVO</th>\n",
       "      <th>PATRIMONIO</th>\n",
       "      <th>VENTAS</th>\n",
       "      <th>UTILIDAD</th>\n",
       "    </tr>\n",
       "  </thead>\n",
       "  <tbody>\n",
       "    <tr>\n",
       "      <th>0</th>\n",
       "      <td>11069</td>\n",
       "      <td>ANÓNIMA</td>\n",
       "      <td>G4663.13</td>\n",
       "      <td>SIERRA</td>\n",
       "      <td>PICHINCHA</td>\n",
       "      <td>GRANDE</td>\n",
       "      <td>SOCIETARIO</td>\n",
       "      <td>560</td>\n",
       "      <td>19013932.6</td>\n",
       "      <td>5441045.72</td>\n",
       "      <td>27523262.48</td>\n",
       "      <td>2935433.52</td>\n",
       "    </tr>\n",
       "    <tr>\n",
       "      <th>1</th>\n",
       "      <td>103998</td>\n",
       "      <td>ANÓNIMA</td>\n",
       "      <td>G4663.13</td>\n",
       "      <td>COSTA</td>\n",
       "      <td>GUAYAS</td>\n",
       "      <td>GRANDE</td>\n",
       "      <td>SOCIETARIO</td>\n",
       "      <td>145</td>\n",
       "      <td>16498974.5</td>\n",
       "      <td>11084842.00</td>\n",
       "      <td>54939460.87</td>\n",
       "      <td>1180874.92</td>\n",
       "    </tr>\n",
       "    <tr>\n",
       "      <th>2</th>\n",
       "      <td>23140</td>\n",
       "      <td>RESPONSABILIDAD LIMITADA</td>\n",
       "      <td>G4663.21</td>\n",
       "      <td>COSTA</td>\n",
       "      <td>EL ORO</td>\n",
       "      <td>GRANDE</td>\n",
       "      <td>SOCIETARIO</td>\n",
       "      <td>65</td>\n",
       "      <td>13759911.4</td>\n",
       "      <td>1854107.85</td>\n",
       "      <td>16703972.80</td>\n",
       "      <td>229199.17</td>\n",
       "    </tr>\n",
       "    <tr>\n",
       "      <th>3</th>\n",
       "      <td>165341</td>\n",
       "      <td>ANÓNIMA</td>\n",
       "      <td>G4663.13</td>\n",
       "      <td>COSTA</td>\n",
       "      <td>GUAYAS</td>\n",
       "      <td>GRANDE</td>\n",
       "      <td>SOCIETARIO</td>\n",
       "      <td>108</td>\n",
       "      <td>13015774.6</td>\n",
       "      <td>4353938.42</td>\n",
       "      <td>20409276.64</td>\n",
       "      <td>81756.86</td>\n",
       "    </tr>\n",
       "    <tr>\n",
       "      <th>4</th>\n",
       "      <td>49377</td>\n",
       "      <td>ANÓNIMA</td>\n",
       "      <td>G4649.23</td>\n",
       "      <td>SIERRA</td>\n",
       "      <td>PICHINCHA</td>\n",
       "      <td>GRANDE</td>\n",
       "      <td>SOCIETARIO</td>\n",
       "      <td>65</td>\n",
       "      <td>12664279.7</td>\n",
       "      <td>4547432.49</td>\n",
       "      <td>19232070.60</td>\n",
       "      <td>-900404.03</td>\n",
       "    </tr>\n",
       "  </tbody>\n",
       "</table>\n",
       "</div>"
      ],
      "text/plain": [
       "   EXPEDIENTE                      TIPO ACTIVIDAD  REGIÓN  PROVINCIA  TAMAÑO  \\\n",
       "0       11069                   ANÓNIMA  G4663.13  SIERRA  PICHINCHA  GRANDE   \n",
       "1      103998                   ANÓNIMA  G4663.13   COSTA     GUAYAS  GRANDE   \n",
       "2       23140  RESPONSABILIDAD LIMITADA  G4663.21   COSTA     EL ORO  GRANDE   \n",
       "3      165341                   ANÓNIMA  G4663.13   COSTA     GUAYAS  GRANDE   \n",
       "4       49377                   ANÓNIMA  G4649.23  SIERRA  PICHINCHA  GRANDE   \n",
       "\n",
       "       SECTOR  EMPLEADOS      ACTIVO   PATRIMONIO       VENTAS    UTILIDAD  \n",
       "0  SOCIETARIO        560  19013932.6   5441045.72  27523262.48  2935433.52  \n",
       "1  SOCIETARIO        145  16498974.5  11084842.00  54939460.87  1180874.92  \n",
       "2  SOCIETARIO         65  13759911.4   1854107.85  16703972.80   229199.17  \n",
       "3  SOCIETARIO        108  13015774.6   4353938.42  20409276.64    81756.86  \n",
       "4  SOCIETARIO         65  12664279.7   4547432.49  19232070.60  -900404.03  "
      ]
     },
     "execution_count": 13,
     "metadata": {},
     "output_type": "execute_result"
    }
   ],
   "source": [
    "data.head()"
   ]
  },
  {
   "cell_type": "code",
   "execution_count": 15,
   "id": "western-bermuda",
   "metadata": {},
   "outputs": [
    {
     "data": {
      "text/plain": [
       "Index(['EXPEDIENTE', 'TIPO', 'ACTIVIDAD', 'REGIÓN', 'PROVINCIA', 'TAMAÑO',\n",
       "       'SECTOR', 'EMPLEADOS', 'ACTIVO', 'PATRIMONIO', 'VENTAS', 'UTILIDAD'],\n",
       "      dtype='object')"
      ]
     },
     "execution_count": 15,
     "metadata": {},
     "output_type": "execute_result"
    }
   ],
   "source": [
    "#### Información de mi dataset\n",
    "data.columns"
   ]
  },
  {
   "cell_type": "code",
   "execution_count": 16,
   "id": "recreational-vienna",
   "metadata": {},
   "outputs": [
    {
     "data": {
      "text/plain": [
       "RangeIndex(start=0, stop=505, step=1)"
      ]
     },
     "execution_count": 16,
     "metadata": {},
     "output_type": "execute_result"
    }
   ],
   "source": [
    "data.index"
   ]
  },
  {
   "cell_type": "code",
   "execution_count": 26,
   "id": "refined-cleaning",
   "metadata": {},
   "outputs": [
    {
     "data": {
      "text/plain": [
       "EXPEDIENTE      int64\n",
       "TIPO           object\n",
       "ACTIVIDAD      object\n",
       "REGIÓN         object\n",
       "PROVINCIA      object\n",
       "TAMAÑO         object\n",
       "SECTOR         object\n",
       "EMPLEADOS       int64\n",
       "ACTIVO        float64\n",
       "PATRIMONIO    float64\n",
       "VENTAS        float64\n",
       "UTILIDAD      float64\n",
       "dtype: object"
      ]
     },
     "execution_count": 26,
     "metadata": {},
     "output_type": "execute_result"
    }
   ],
   "source": [
    "data.dtypes"
   ]
  },
  {
   "cell_type": "code",
   "execution_count": 27,
   "id": "minor-painting",
   "metadata": {},
   "outputs": [
    {
     "name": "stdout",
     "output_type": "stream",
     "text": [
      "<class 'pandas.core.frame.DataFrame'>\n",
      "RangeIndex: 505 entries, 0 to 504\n",
      "Data columns (total 12 columns):\n",
      " #   Column      Non-Null Count  Dtype  \n",
      "---  ------      --------------  -----  \n",
      " 0   EXPEDIENTE  505 non-null    int64  \n",
      " 1   TIPO        505 non-null    object \n",
      " 2   ACTIVIDAD   505 non-null    object \n",
      " 3   REGIÓN      505 non-null    object \n",
      " 4   PROVINCIA   505 non-null    object \n",
      " 5   TAMAÑO      505 non-null    object \n",
      " 6   SECTOR      505 non-null    object \n",
      " 7   EMPLEADOS   505 non-null    int64  \n",
      " 8   ACTIVO      505 non-null    float64\n",
      " 9   PATRIMONIO  505 non-null    float64\n",
      " 10  VENTAS      505 non-null    float64\n",
      " 11  UTILIDAD    505 non-null    float64\n",
      "dtypes: float64(4), int64(2), object(6)\n",
      "memory usage: 47.5+ KB\n"
     ]
    }
   ],
   "source": [
    "data.info()"
   ]
  },
  {
   "cell_type": "code",
   "execution_count": 38,
   "id": "straight-spectrum",
   "metadata": {},
   "outputs": [
    {
     "name": "stdout",
     "output_type": "stream",
     "text": [
      "<class 'pandas.core.series.Series'>\n"
     ]
    },
    {
     "data": {
      "text/plain": [
       "501"
      ]
     },
     "execution_count": 38,
     "metadata": {},
     "output_type": "execute_result"
    }
   ],
   "source": [
    "x = data[data['EMPLEADOS']<100]\n",
    "#aux = np.array(data['Empleados'],dtype='int32')\n",
    "#empreMuchosEmpleados = \n",
    "#aux.shape()\n",
    "print(type(data['EMPLEADOS']))\n",
    "\n",
    "len(x)"
   ]
  },
  {
   "cell_type": "code",
   "execution_count": 39,
   "id": "documentary-clone",
   "metadata": {},
   "outputs": [
    {
     "data": {
      "text/plain": [
       "0      560\n",
       "1      145\n",
       "2       65\n",
       "3      108\n",
       "4       65\n",
       "      ... \n",
       "500      3\n",
       "501      6\n",
       "502      6\n",
       "503      4\n",
       "504      4\n",
       "Name: EMPLEADOS, Length: 505, dtype: int64"
      ]
     },
     "execution_count": 39,
     "metadata": {},
     "output_type": "execute_result"
    }
   ],
   "source": [
    "data['EMPLEADOS']"
   ]
  },
  {
   "cell_type": "code",
   "execution_count": 42,
   "id": "chemical-sleeve",
   "metadata": {},
   "outputs": [
    {
     "data": {
      "text/plain": [
       "4166"
      ]
     },
     "execution_count": 42,
     "metadata": {},
     "output_type": "execute_result"
    }
   ],
   "source": [
    "x2 = np.array(data['EMPLEADOS'])\n",
    "x2.sum()"
   ]
  },
  {
   "cell_type": "markdown",
   "id": "sweet-instrument",
   "metadata": {},
   "source": [
    "#### Conclusión\n",
    "Tras analizar ...."
   ]
  }
 ],
 "metadata": {
  "kernelspec": {
   "display_name": "Python 3",
   "language": "python",
   "name": "python3"
  },
  "language_info": {
   "codemirror_mode": {
    "name": "ipython",
    "version": 3
   },
   "file_extension": ".py",
   "mimetype": "text/x-python",
   "name": "python",
   "nbconvert_exporter": "python",
   "pygments_lexer": "ipython3",
   "version": "3.8.0"
  }
 },
 "nbformat": 4,
 "nbformat_minor": 5
}
