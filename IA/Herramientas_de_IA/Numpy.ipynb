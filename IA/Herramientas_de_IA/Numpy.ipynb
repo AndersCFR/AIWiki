{
 "cells": [
  {
   "cell_type": "markdown",
   "id": "thorough-exemption",
   "metadata": {},
   "source": [
    "# Numpy\n",
    "Función: Es trabajar con vectores y matrices de forma rápida"
   ]
  },
  {
   "cell_type": "markdown",
   "id": "middle-florence",
   "metadata": {},
   "source": [
    "## EDA \n",
    "Explorative Data Analysis\n",
    "1. Obtener datos\n",
    "2. Manipular y transformar\n",
    "3. Ver estadísticas, operar datos\n",
    "4. Visualización de datos"
   ]
  },
  {
   "cell_type": "code",
   "execution_count": 27,
   "id": "liable-latvia",
   "metadata": {},
   "outputs": [],
   "source": [
    "import numpy as np"
   ]
  },
  {
   "cell_type": "markdown",
   "id": "noted-mechanics",
   "metadata": {},
   "source": [
    "#### Bases"
   ]
  },
  {
   "cell_type": "code",
   "execution_count": 28,
   "id": "superb-prescription",
   "metadata": {},
   "outputs": [
    {
     "data": {
      "text/plain": [
       "array([25, 30, 35, 45, 80])"
      ]
     },
     "execution_count": 28,
     "metadata": {},
     "output_type": "execute_result"
    }
   ],
   "source": [
    "# dtype= int32, float32 o float 64\n",
    "# Array unidimensional\n",
    "array1 = np.array([25,30,35,45,80],dtype='int32')\n",
    "array1"
   ]
  },
  {
   "cell_type": "code",
   "execution_count": 29,
   "id": "immune-debut",
   "metadata": {},
   "outputs": [
    {
     "data": {
      "text/plain": [
       "array([[52.2 , 20.  ],\n",
       "       [30.05, 80.69]])"
      ]
     },
     "execution_count": 29,
     "metadata": {},
     "output_type": "execute_result"
    }
   ],
   "source": [
    "#Matrices\n",
    "matriz1 = np.array([[52.20,20.0],[30.05,80.69]])\n",
    "matriz1"
   ]
  },
  {
   "cell_type": "code",
   "execution_count": 30,
   "id": "extraordinary-indonesia",
   "metadata": {},
   "outputs": [
    {
     "data": {
      "text/plain": [
       "array([[52.2 , 20.  ],\n",
       "       [30.05, 80.69],\n",
       "       [90.  , 59.  ]])"
      ]
     },
     "execution_count": 30,
     "metadata": {},
     "output_type": "execute_result"
    }
   ],
   "source": [
    "matriz2 = np.array([[52.20,20.0],[30.05,80.69],[90,59]])\n",
    "matriz2"
   ]
  },
  {
   "cell_type": "code",
   "execution_count": 31,
   "id": "amended-motel",
   "metadata": {},
   "outputs": [
    {
     "name": "stdout",
     "output_type": "stream",
     "text": [
      "La dimension del array 1: 1\n",
      "La dimension del array 2: 2\n",
      "La dimension del array 3: 2\n"
     ]
    }
   ],
   "source": [
    "print('La dimension del array 1:',array1.ndim)\n",
    "print('La dimension del array 2:',matriz1.ndim)\n",
    "print('La dimension del array 3:',matriz2.ndim)"
   ]
  },
  {
   "cell_type": "code",
   "execution_count": 32,
   "id": "miniature-wiring",
   "metadata": {},
   "outputs": [
    {
     "name": "stdout",
     "output_type": "stream",
     "text": [
      "(2, 2)\n",
      "(3, 2)\n"
     ]
    }
   ],
   "source": [
    "#shape\n",
    "print(matriz1.shape)\n",
    "print(matriz2.shape)"
   ]
  },
  {
   "cell_type": "code",
   "execution_count": 33,
   "id": "checked-tribe",
   "metadata": {},
   "outputs": [
    {
     "name": "stdout",
     "output_type": "stream",
     "text": [
      "int32\n",
      "float64\n"
     ]
    }
   ],
   "source": [
    "#averiguar los tipos de datos\n",
    "print(array1.dtype)\n",
    "print(matriz1.dtype)"
   ]
  },
  {
   "cell_type": "code",
   "execution_count": 34,
   "id": "pregnant-reproduction",
   "metadata": {},
   "outputs": [
    {
     "name": "stdout",
     "output_type": "stream",
     "text": [
      "4\n",
      "8\n"
     ]
    }
   ],
   "source": [
    "#tamaño \n",
    "print(array1.itemsize)\n",
    "print(matriz1.itemsize)"
   ]
  },
  {
   "cell_type": "code",
   "execution_count": 35,
   "id": "molecular-magazine",
   "metadata": {},
   "outputs": [
    {
     "name": "stdout",
     "output_type": "stream",
     "text": [
      "5\n",
      "4\n"
     ]
    }
   ],
   "source": [
    "#numero de elementos\n",
    "print(array1.size)\n",
    "print(matriz1.size)"
   ]
  },
  {
   "cell_type": "markdown",
   "id": "olympic-austria",
   "metadata": {},
   "source": [
    "#### Selección y visualización de datos\n"
   ]
  },
  {
   "cell_type": "code",
   "execution_count": 36,
   "id": "descending-philippines",
   "metadata": {},
   "outputs": [
    {
     "data": {
      "text/plain": [
       "80.69"
      ]
     },
     "execution_count": 36,
     "metadata": {},
     "output_type": "execute_result"
    }
   ],
   "source": [
    "#acceder aun unico elemento\n",
    "matriz1[1,1]"
   ]
  },
  {
   "cell_type": "code",
   "execution_count": 37,
   "id": "psychological-winner",
   "metadata": {},
   "outputs": [
    {
     "data": {
      "text/plain": [
       "array([[52.2, 20. ]])"
      ]
     },
     "execution_count": 37,
     "metadata": {},
     "output_type": "execute_result"
    }
   ],
   "source": [
    "#tomar fila\n",
    "matriz2[0:1,:]"
   ]
  },
  {
   "cell_type": "markdown",
   "id": "banned-description",
   "metadata": {},
   "source": [
    "#### Crear o inicializar matrices"
   ]
  },
  {
   "cell_type": "code",
   "execution_count": 38,
   "id": "fuzzy-devices",
   "metadata": {},
   "outputs": [
    {
     "data": {
      "text/plain": [
       "array([[0., 0., 0.],\n",
       "       [0., 0., 0.],\n",
       "       [0., 0., 0.]])"
      ]
     },
     "execution_count": 38,
     "metadata": {},
     "output_type": "execute_result"
    }
   ],
   "source": [
    "# Crear matriz de ceros\n",
    "np.zeros((3,3))"
   ]
  },
  {
   "cell_type": "code",
   "execution_count": 39,
   "id": "ruled-mills",
   "metadata": {},
   "outputs": [
    {
     "data": {
      "text/plain": [
       "array([[1, 1, 1],\n",
       "       [1, 1, 1],\n",
       "       [1, 1, 1]])"
      ]
     },
     "execution_count": 39,
     "metadata": {},
     "output_type": "execute_result"
    }
   ],
   "source": [
    "np.ones((3,3),dtype='int32')"
   ]
  },
  {
   "cell_type": "code",
   "execution_count": 40,
   "id": "economic-karma",
   "metadata": {},
   "outputs": [
    {
     "data": {
      "text/plain": [
       "array([[25, 25, 25],\n",
       "       [25, 25, 25],\n",
       "       [25, 25, 25]])"
      ]
     },
     "execution_count": 40,
     "metadata": {},
     "output_type": "execute_result"
    }
   ],
   "source": [
    "np.full((3,3),25,dtype='int32')"
   ]
  },
  {
   "cell_type": "code",
   "execution_count": 41,
   "id": "oriental-pension",
   "metadata": {},
   "outputs": [
    {
     "data": {
      "text/plain": [
       "array([[0.04210803, 0.01527495],\n",
       "       [0.91982332, 0.44476745]])"
      ]
     },
     "execution_count": 41,
     "metadata": {},
     "output_type": "execute_result"
    }
   ],
   "source": [
    "np.random.rand(2,2)"
   ]
  },
  {
   "cell_type": "code",
   "execution_count": 42,
   "id": "injured-lying",
   "metadata": {},
   "outputs": [
    {
     "data": {
      "text/plain": [
       "array([[25, 21],\n",
       "       [29, 29]])"
      ]
     },
     "execution_count": 42,
     "metadata": {},
     "output_type": "execute_result"
    }
   ],
   "source": [
    "np.random.randint(20,30,size=(2,2))"
   ]
  },
  {
   "cell_type": "code",
   "execution_count": 43,
   "id": "convinced-whole",
   "metadata": {},
   "outputs": [
    {
     "data": {
      "text/plain": [
       "array([[1., 0., 0., 0., 0., 0.],\n",
       "       [0., 1., 0., 0., 0., 0.],\n",
       "       [0., 0., 1., 0., 0., 0.],\n",
       "       [0., 0., 0., 1., 0., 0.],\n",
       "       [0., 0., 0., 0., 1., 0.],\n",
       "       [0., 0., 0., 0., 0., 1.]])"
      ]
     },
     "execution_count": 43,
     "metadata": {},
     "output_type": "execute_result"
    }
   ],
   "source": [
    "#matri identidad\n",
    "np.identity(6)"
   ]
  },
  {
   "cell_type": "markdown",
   "id": "rough-furniture",
   "metadata": {},
   "source": [
    "#### Operaciones con escalares"
   ]
  },
  {
   "cell_type": "code",
   "execution_count": 44,
   "id": "recovered-silver",
   "metadata": {},
   "outputs": [
    {
     "data": {
      "text/plain": [
       "array([25, 30, 35, 45, 80])"
      ]
     },
     "execution_count": 44,
     "metadata": {},
     "output_type": "execute_result"
    }
   ],
   "source": [
    "array1"
   ]
  },
  {
   "cell_type": "code",
   "execution_count": 45,
   "id": "meaningful-joint",
   "metadata": {},
   "outputs": [
    {
     "data": {
      "text/plain": [
       "array([27, 32, 37, 47, 82])"
      ]
     },
     "execution_count": 45,
     "metadata": {},
     "output_type": "execute_result"
    }
   ],
   "source": [
    "array1+2"
   ]
  },
  {
   "cell_type": "code",
   "execution_count": 46,
   "id": "asian-charity",
   "metadata": {},
   "outputs": [
    {
     "data": {
      "text/plain": [
       "array([23, 28, 33, 43, 78])"
      ]
     },
     "execution_count": 46,
     "metadata": {},
     "output_type": "execute_result"
    }
   ],
   "source": [
    "array1-2"
   ]
  },
  {
   "cell_type": "code",
   "execution_count": 47,
   "id": "apparent-batman",
   "metadata": {},
   "outputs": [
    {
     "data": {
      "text/plain": [
       "array([125, 150, 175, 225, 400])"
      ]
     },
     "execution_count": 47,
     "metadata": {},
     "output_type": "execute_result"
    }
   ],
   "source": [
    "array1*5"
   ]
  },
  {
   "cell_type": "code",
   "execution_count": 48,
   "id": "upper-foster",
   "metadata": {},
   "outputs": [
    {
     "data": {
      "text/plain": [
       "array([    9765625,    24300000,    52521875,   184528125, -1018167296],\n",
       "      dtype=int32)"
      ]
     },
     "execution_count": 48,
     "metadata": {},
     "output_type": "execute_result"
    }
   ],
   "source": [
    "array1**5"
   ]
  },
  {
   "cell_type": "code",
   "execution_count": 49,
   "id": "flexible-junction",
   "metadata": {},
   "outputs": [
    {
     "data": {
      "text/plain": [
       "array([ 5.,  6.,  7.,  9., 16.])"
      ]
     },
     "execution_count": 49,
     "metadata": {},
     "output_type": "execute_result"
    }
   ],
   "source": [
    "array1/5"
   ]
  },
  {
   "cell_type": "markdown",
   "id": "separated-covering",
   "metadata": {},
   "source": [
    "#### Operaciones entre Matrices"
   ]
  },
  {
   "cell_type": "code",
   "execution_count": 50,
   "id": "intensive-schema",
   "metadata": {},
   "outputs": [],
   "source": [
    "A = np.array([[52.20,20.05],[30.05,80.69],[90.2,59.3]])\n",
    "B = np.array([[22,20.08],[80.05,10.10],[10.5,29.3]])"
   ]
  },
  {
   "cell_type": "code",
   "execution_count": 51,
   "id": "demonstrated-bidder",
   "metadata": {},
   "outputs": [
    {
     "data": {
      "text/plain": [
       "array([[52.2 , 20.05],\n",
       "       [30.05, 80.69],\n",
       "       [90.2 , 59.3 ]])"
      ]
     },
     "execution_count": 51,
     "metadata": {},
     "output_type": "execute_result"
    }
   ],
   "source": [
    "A"
   ]
  },
  {
   "cell_type": "code",
   "execution_count": 52,
   "id": "imposed-ultimate",
   "metadata": {},
   "outputs": [
    {
     "data": {
      "text/plain": [
       "array([[22.  , 20.08],\n",
       "       [80.05, 10.1 ],\n",
       "       [10.5 , 29.3 ]])"
      ]
     },
     "execution_count": 52,
     "metadata": {},
     "output_type": "execute_result"
    }
   ],
   "source": [
    "B"
   ]
  },
  {
   "cell_type": "code",
   "execution_count": 53,
   "id": "accompanied-texas",
   "metadata": {},
   "outputs": [
    {
     "data": {
      "text/plain": [
       "array([[ 74.2 ,  40.13],\n",
       "       [110.1 ,  90.79],\n",
       "       [100.7 ,  88.6 ]])"
      ]
     },
     "execution_count": 53,
     "metadata": {},
     "output_type": "execute_result"
    }
   ],
   "source": [
    "#sumar dos matrices\n",
    "np.add(A,B)"
   ]
  },
  {
   "cell_type": "code",
   "execution_count": 54,
   "id": "cardiovascular-newspaper",
   "metadata": {},
   "outputs": [
    {
     "data": {
      "text/plain": [
       "array([[ 3.020e+01, -3.000e-02],\n",
       "       [-5.000e+01,  7.059e+01],\n",
       "       [ 7.970e+01,  3.000e+01]])"
      ]
     },
     "execution_count": 54,
     "metadata": {},
     "output_type": "execute_result"
    }
   ],
   "source": [
    "np.subtract(A,B)"
   ]
  },
  {
   "cell_type": "code",
   "execution_count": 55,
   "id": "impressed-dubai",
   "metadata": {},
   "outputs": [
    {
     "data": {
      "text/plain": [
       "array([[1148.4   ,  402.604 ],\n",
       "       [2405.5025,  814.969 ],\n",
       "       [ 947.1   , 1737.49  ]])"
      ]
     },
     "execution_count": 55,
     "metadata": {},
     "output_type": "execute_result"
    }
   ],
   "source": [
    "#Multiplicacion de elemento a elemento\n",
    "np.multiply(A,B)"
   ]
  },
  {
   "cell_type": "code",
   "execution_count": 56,
   "id": "automotive-cancer",
   "metadata": {},
   "outputs": [
    {
     "data": {
      "text/plain": [
       "array([[2.37272727, 0.99850598],\n",
       "       [0.37539038, 7.98910891],\n",
       "       [8.59047619, 2.02389078]])"
      ]
     },
     "execution_count": 56,
     "metadata": {},
     "output_type": "execute_result"
    }
   ],
   "source": [
    "#Division de elemento\n",
    "np.divide(A,B)"
   ]
  },
  {
   "cell_type": "code",
   "execution_count": 57,
   "id": "floral-divorce",
   "metadata": {},
   "outputs": [],
   "source": [
    "# Multiplicacion de matrices\n",
    "A.shape\n",
    "C=np.array([[52.20,20.05,85.6],[30.05,80.69,859.3]])\n",
    "AC = np.dot(A,C)"
   ]
  },
  {
   "cell_type": "code",
   "execution_count": 58,
   "id": "british-transition",
   "metadata": {},
   "outputs": [
    {
     "data": {
      "text/plain": [
       "array([[ 3327.3425,  3993.3445,  6490.405 ],\n",
       "       [ 2664.4445,  7113.3786,  6593.427 ],\n",
       "       [21697.285 , 71909.197 , 58677.61  ]])"
      ]
     },
     "execution_count": 58,
     "metadata": {},
     "output_type": "execute_result"
    }
   ],
   "source": [
    "#Trasponer\n",
    "(AC.T)"
   ]
  }
 ],
 "metadata": {
  "kernelspec": {
   "display_name": "Python 3",
   "language": "python",
   "name": "python3"
  },
  "language_info": {
   "codemirror_mode": {
    "name": "ipython",
    "version": 3
   },
   "file_extension": ".py",
   "mimetype": "text/x-python",
   "name": "python",
   "nbconvert_exporter": "python",
   "pygments_lexer": "ipython3",
   "version": "3.8.0"
  }
 },
 "nbformat": 4,
 "nbformat_minor": 5
}
