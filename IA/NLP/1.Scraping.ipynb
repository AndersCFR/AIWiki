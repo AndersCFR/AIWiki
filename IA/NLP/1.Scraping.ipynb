{
 "cells": [
  {
   "cell_type": "markdown",
   "metadata": {},
   "source": [
    "# Web Scraping basado en google news"
   ]
  },
  {
   "cell_type": "code",
   "execution_count": 62,
   "metadata": {},
   "outputs": [],
   "source": [
    "import requests # Obtener html de página web\n",
    "import pandas as pd # Manejo de datos\n",
    "from siuba.dply.verbs import * # Transformación de datos (al estilo tidyverse)\n",
    "from scrapy import Selector # Scrapping de información"
   ]
  },
  {
   "cell_type": "code",
   "execution_count": 63,
   "metadata": {},
   "outputs": [
    {
     "data": {
      "text/plain": [
       "'https://news.google.com/'"
      ]
     },
     "execution_count": 63,
     "metadata": {},
     "output_type": "execute_result"
    }
   ],
   "source": [
    "news_pag = \"https://news.google.com/\"\n",
    "news_pag"
   ]
  },
  {
   "cell_type": "code",
   "execution_count": 64,
   "metadata": {},
   "outputs": [
    {
     "data": {
      "text/plain": [
       "'search?q='"
      ]
     },
     "execution_count": 64,
     "metadata": {},
     "output_type": "execute_result"
    }
   ],
   "source": [
    "parametro_busqueda = \"search?q=\"\n",
    "parametro_busqueda"
   ]
  },
  {
   "cell_type": "code",
   "execution_count": 65,
   "metadata": {},
   "outputs": [
    {
     "data": {
      "text/plain": [
       "'Guillermo%20Lasso'"
      ]
     },
     "execution_count": 65,
     "metadata": {},
     "output_type": "execute_result"
    }
   ],
   "source": [
    "busqueda_no_espacios = 'Guillermo Lasso'.replace(\" \",\"%20\")\n",
    "busqueda_no_espacios"
   ]
  },
  {
   "cell_type": "code",
   "execution_count": 66,
   "metadata": {},
   "outputs": [
    {
     "data": {
      "text/plain": [
       "'&hl=es-419&gl=US&ceid=US:es-419'"
      ]
     },
     "execution_count": 66,
     "metadata": {},
     "output_type": "execute_result"
    }
   ],
   "source": [
    "parametro_final = \"&hl=es-419&gl=US&ceid=US:es-419\"\n",
    "parametro_final"
   ]
  },
  {
   "cell_type": "code",
   "execution_count": 67,
   "metadata": {},
   "outputs": [
    {
     "data": {
      "text/plain": [
       "'https://news.google.com/search?q=Guillermo%20Lasso&hl=es-419&gl=US&ceid=US:es-419'"
      ]
     },
     "execution_count": 67,
     "metadata": {},
     "output_type": "execute_result"
    }
   ],
   "source": [
    "html_dir = news_pag+parametro_busqueda+busqueda_no_espacios+parametro_final\n",
    "html_dir"
   ]
  },
  {
   "cell_type": "code",
   "execution_count": 68,
   "metadata": {},
   "outputs": [
    {
     "data": {
      "text/plain": [
       "bytes"
      ]
     },
     "execution_count": 68,
     "metadata": {},
     "output_type": "execute_result"
    }
   ],
   "source": [
    "google_news = requests.get(html_dir).content\n",
    "type(google_news)"
   ]
  },
  {
   "cell_type": "code",
   "execution_count": 69,
   "metadata": {},
   "outputs": [],
   "source": [
    "google_news_sel = Selector(text = google_news)"
   ]
  },
  {
   "cell_type": "code",
   "execution_count": 70,
   "metadata": {},
   "outputs": [
    {
     "data": {
      "text/plain": [
       "scrapy.selector.unified.Selector"
      ]
     },
     "execution_count": 70,
     "metadata": {},
     "output_type": "execute_result"
    }
   ],
   "source": [
    "type(google_news_sel)"
   ]
  },
  {
   "cell_type": "markdown",
   "metadata": {},
   "source": [
    "Agregando etiqueta de la clase css general de cada noticia, buscamos en los CSS para poder seleccionar "
   ]
  },
  {
   "cell_type": "code",
   "execution_count": 71,
   "metadata": {},
   "outputs": [
    {
     "data": {
      "text/plain": [
       "scrapy.selector.unified.Selector"
      ]
     },
     "execution_count": 71,
     "metadata": {},
     "output_type": "execute_result"
    }
   ],
   "source": [
    "noticias = google_news_sel.css('.MQsxIb')\n",
    "type(noticias[0])\n",
    "#len(noticias)"
   ]
  },
  {
   "cell_type": "code",
   "execution_count": 72,
   "metadata": {},
   "outputs": [
    {
     "data": {
      "text/plain": [
       "['Trámite de demanda contra reforma tributaria de Guillermo Lasso puede durar años en la Corte Constitucional']"
      ]
     },
     "execution_count": 72,
     "metadata": {},
     "output_type": "execute_result"
    }
   ],
   "source": [
    "titular = noticias[6].css('h3').css('::text').extract()\n",
    "titular"
   ]
  },
  {
   "cell_type": "code",
   "execution_count": 73,
   "metadata": {},
   "outputs": [
    {
     "data": {
      "text/plain": [
       "['El Universo']"
      ]
     },
     "execution_count": 73,
     "metadata": {},
     "output_type": "execute_result"
    }
   ],
   "source": [
    "diario = [noticias[6].css(\"a.wEwyrc.AVN2gc.uQIVzc.Sksgp\").css(\"::text\").extract_first()]\n",
    "diario"
   ]
  },
  {
   "cell_type": "code",
   "execution_count": 74,
   "metadata": {},
   "outputs": [
    {
     "data": {
      "text/plain": [
       "['2022-02-04T14:00:03Z']"
      ]
     },
     "execution_count": 74,
     "metadata": {},
     "output_type": "execute_result"
    }
   ],
   "source": [
    "fecha = [noticias[6].css('time').xpath(\"@datetime\").extract_first()]\n",
    "fecha"
   ]
  },
  {
   "cell_type": "markdown",
   "metadata": {},
   "source": [
    "Se tiene un link enmascarado que se utilzia para "
   ]
  },
  {
   "cell_type": "code",
   "execution_count": 75,
   "metadata": {},
   "outputs": [
    {
     "data": {
      "text/plain": [
       "['./articles/CBMingFodHRwczovL3d3dy5lbHVuaXZlcnNvLmNvbS9ub3RpY2lhcy9lY29ub21pYS90cmFtaXRlLWRlLWRlbWFuZGEtY29udHJhLXJlZm9ybWEtdHJpYnV0YXJpYS1kZS1ndWlsbGVybW8tbGFzc28tcHVlZGUtZHVyYXItYW5vcy1lbi1sYS1jb3J0ZS1jb25zdGl0dWNpb25hbC1ub3RhL9IBrQFodHRwczovL3d3dy5lbHVuaXZlcnNvLmNvbS9ub3RpY2lhcy9lY29ub21pYS90cmFtaXRlLWRlLWRlbWFuZGEtY29udHJhLXJlZm9ybWEtdHJpYnV0YXJpYS1kZS1ndWlsbGVybW8tbGFzc28tcHVlZGUtZHVyYXItYW5vcy1lbi1sYS1jb3J0ZS1jb25zdGl0dWNpb25hbC1ub3RhLz9vdXRwdXRUeXBlPWFtcA?hl=es-419&gl=US&ceid=US%3Aes-419']"
      ]
     },
     "execution_count": 75,
     "metadata": {},
     "output_type": "execute_result"
    }
   ],
   "source": [
    "link_enmascarado = [noticias[6].css('a').xpath(\"@href\").extract_first()]\n",
    "link_enmascarado"
   ]
  },
  {
   "cell_type": "code",
   "execution_count": 76,
   "metadata": {},
   "outputs": [
    {
     "data": {
      "text/plain": [
       "'https://news.google.com/articles/CBMingFodHRwczovL3d3dy5lbHVuaXZlcnNvLmNvbS9ub3RpY2lhcy9lY29ub21pYS90cmFtaXRlLWRlLWRlbWFuZGEtY29udHJhLXJlZm9ybWEtdHJpYnV0YXJpYS1kZS1ndWlsbGVybW8tbGFzc28tcHVlZGUtZHVyYXItYW5vcy1lbi1sYS1jb3J0ZS1jb25zdGl0dWNpb25hbC1ub3RhL9IBrQFodHRwczovL3d3dy5lbHVuaXZlcnNvLmNvbS9ub3RpY2lhcy9lY29ub21pYS90cmFtaXRlLWRlLWRlbWFuZGEtY29udHJhLXJlZm9ybWEtdHJpYnV0YXJpYS1kZS1ndWlsbGVybW8tbGFzc28tcHVlZGUtZHVyYXItYW5vcy1lbi1sYS1jb3J0ZS1jb25zdGl0dWNpb25hbC1ub3RhLz9vdXRwdXRUeXBlPWFtcA?hl=es-419&gl=US&ceid=US%3Aes-419'"
      ]
     },
     "execution_count": 76,
     "metadata": {},
     "output_type": "execute_result"
    }
   ],
   "source": [
    "link = news_pag+link_enmascarado[0][2:]\n",
    "link"
   ]
  },
  {
   "cell_type": "markdown",
   "metadata": {},
   "source": [
    "Una vez que ya hemos obtenido la url definitiva ahora nos redirigimos a la nueva página para buscar el texto y poder procesarlo"
   ]
  },
  {
   "cell_type": "code",
   "execution_count": 77,
   "metadata": {},
   "outputs": [
    {
     "data": {
      "text/plain": [
       "scrapy.selector.unified.Selector"
      ]
     },
     "execution_count": 77,
     "metadata": {},
     "output_type": "execute_result"
    }
   ],
   "source": [
    "noticia = requests.get(link).content\n",
    "news_sel = Selector(text = noticia)\n",
    "type(news_sel)"
   ]
  },
  {
   "cell_type": "markdown",
   "metadata": {},
   "source": [
    "Finalmente obtenemos todas las noticia en formato de texto Normal para su posterior análisis"
   ]
  },
  {
   "cell_type": "code",
   "execution_count": 78,
   "metadata": {},
   "outputs": [
    {
     "data": {
      "text/plain": [
       "'Existen pocas posibilidades de que la Ley de Desarrollo Económico y Sostenibilidad Fiscal tras la pandemia del COVID-19 sea eliminada  o que deje de estar en vigencia, incluso luego que el Tribunal de la Sala de Admisión de la Corte Constitucional admitiera a trámite la acción de inconstitucionalidad planteada el 13 de diciembre por el asambleísta de la bancada Unión por la Esperanza (UNES) Joao Acuña Figueroa. La ley que incrementa el impuesto a la renta, sobre todo a quienes tienen más ingresos, y que establece contribuciones temporales a empresas y personas con millonarios patrimonios,  está en vigencia desde el 29 de noviembre pasado y espera generar unos $ 800 millones al fisco solo el primer año. Sin embargo, para  el constitucionalista Ismael Quintana son bajísimas las posibilidades de un tratamiento expedito  y más aún de una retroactividad de la ley. Explica que si se aplicaran estrictamente los plazos establecidos en la Ley de Garantías Constitucionales, el trámite en la Corte no debería durar más allá de tres meses. “Ese es el deber ser”, comenta.  Sin embargo, en la práctica, los procesos en la Corte pueden llegar a durar años completos, dice. Además sostiene que de manera tradicional, el tema tributario no es prioritario y esto se puede apreciar en el sentido de que la sala que admite a trámite  no hace una recomendación de procesar el tema de manera urgente  o rompiendo los esquemas del tiempo. Tampoco  establece una medida cautelar de suspensión de sus efectos. Por ello, considera que el trámite podría demorar de cinco a diez años, y si después de ese lapso se llegara a declarar la inconstitucionalidad, difícilmente sería retroactiva. Basa su análisis en lo que ha sucedido recientemente con  la Ley de Fomento Ambiental, acerca de la cual la Corte acaba de emitir una sentencia luego de diez años.  Le ley que data del 2011 establecía diversos impuestos como al banano, a las botellas, entre otros. Sin embargo, se  la encontró inconstitucional  por no cumplir el principio de unidad de materias.  La sentencia de la Corte, sin embargo, establece que esta seguirá vigente hasta el 2023  a fin de darle tiempo al fisco para resolver el hueco fiscal que generaría, y no genera ningún efecto de retroactividad. Quintana también comenta que las demandas de UNES y Yaku Pérez Guartambel  tienen deficiencia argumental.  Ellos se han basado en cómo fue la votación. La demanda señala que la ley en cuestión no fue aprobada como lo establece el artículo 140 de la Constitución. Dicen que no fue aprobado, pues hubo 88 votos en contra, 19 abstenciones y 30 votos a favor, como consta en el registro de votaciones de la Asamblea Nacional. En realidad, el artículo 140 dice que en el caso de que la Asamblea no apruebe, modifique o niegue el proyecto calificado de urgente en materia económica, la presidenta o presidente de la República lo promulgará como decreto-\\xadley y ordenará su publicación en el Registro Oficial. También indica que la Asamblea Nacional podrá en cualquier tiempo modificarla o derogarla, con sujeción al trámite ordinario previsto en la Constitución. La Asamblea, no logró negar el proyecto, pues la moción de negar y archivar dicha ley tampoco contó con los suficientes votos. Entre ellos, justamente la bancada de UNES se abstuvo. Esto dio pie para que se hablara incluso de un pacto entre UNES y el Gobierno. Es por ello que la ley entró en vigencia por el Ministerio de la Ley. Jaime Carrera, secretario ejecutivo del Observatorio de la Política Fiscal (OPF),  considera que este tipo de demandas  ratifican la percepción que ya existe en el mercado y en los actores económicos de la débil institucionalidad  en el país y la falta de acuerdo y entendimiento de los sectores políticos y sociales sobre la necesidad de tener cuentas públicas sólidas y una economía sana. Muestra de ello es que el riesgo país sigue alto, pese a los altos precios del crudo e incluso de la entrada en vigencia de la ley tributaria. Sobre el tema de la constitucionalidad, no debe existir duda sobre que la ley sí es constitucional, pero además considera que  si hubiese un pronunciamiento de la Corte, sería ratificando la vigencia de la ley. Para Carrera,  los argumentos de los demandantes solo reflejan la mediocridad de la Asamblea, desconocimiento y la falta de responsabilidad política. Sobre el tema,  Santiago García, presidente del Colegio de Economistas de Pichincha,  considera que la potestad de presentar una demanda de inconstitucionalidad es una herramienta jurídica totalmente legal. Sin embargo, dice que los asambleístas correístas no están pensando en las consecuencias para la economía. Refiere que el presidente Rafael Correa ya implementó desde el 2015 medidas neoliberales de ajuste fiscal para buscar estabilización fiscal, pero las élites económicas no respondieron con su contraparte pagando mayores impuestos. Ahora,  el actual gobierno de derecha pone en marcha una agresiva reforma tributaria que corrige esta situación sobre las élites,  y que también ajusta a la clase media, que ya se había acostumbrado a no pagar lo que debían durante décadas. Explica que  lo que no terminan de entender los asambleístas es que los ingresos permanentes son muy importantes para atender las necesidades de la población y estos justamente son generados por impuestos.  No es válido rechazar el incremento de impuestos, basados en el alza del precio del crudo. Son cosas distintas.  “Al gobierno de Correa ya le sucedió que se le cayó el ingreso petrolero por el volátil precio y no aprenden”, dijo. (I)'"
      ]
     },
     "execution_count": 78,
     "metadata": {},
     "output_type": "execute_result"
    }
   ],
   "source": [
    "selact = news_sel.css('.prose-text').css('p').css('::text').extract()\n",
    "text = ' '.join(selact)\n",
    "text"
   ]
  },
  {
   "cell_type": "markdown",
   "metadata": {},
   "source": [
    "### Creación de Funciones genéricas para hacer scrapin en google news"
   ]
  },
  {
   "cell_type": "code",
   "execution_count": 79,
   "metadata": {},
   "outputs": [],
   "source": [
    "from siuba import _"
   ]
  },
  {
   "cell_type": "code",
   "execution_count": 80,
   "metadata": {},
   "outputs": [],
   "source": [
    "def obtiene_noticias_data(busqueda):\n",
    "    # Parametrización de búsqueda\n",
    "    news_pag = \"https://news.google.com/\"\n",
    "    parametro_busqueda = \"search?q=\"\n",
    "    busqueda_no_espacios = busqueda.replace(\" \",\"%20\")\n",
    "    parametro_final = \"&hl=es-419&gl=US&ceid=US:es-419\"\n",
    "    html_dir = news_pag+parametro_busqueda+busqueda_no_espacios+parametro_final\n",
    "    google_news = requests.get(html_dir).content\n",
    "    google_news_sel = Selector(text = google_news)\n",
    "    # Obtención de data\n",
    "    noticias = google_news_sel.css('.nID9nc')\n",
    "    titulares = []\n",
    "    diarios = []\n",
    "    fechas = []\n",
    "    links = []\n",
    "    for i in range(0,len(noticias)):\n",
    "        titular = noticias[i].css('h3').css('::text').extract()\n",
    "        diario = [noticias[i].css('a.wEwyrc.AVN2gc.uQIVzc.Sksgp').css('::text').extract_first()]\n",
    "        fecha = [noticias[i].css('time').xpath(\"@datetime\").extract_first()]\n",
    "        link_enmascarado = noticias[i].css('a').xpath(\"@href\").extract_first()\n",
    "        link = news_pag+link_enmascarado[2:]\n",
    "        titulares.append(titular[0])\n",
    "        diarios.append(diario[0])\n",
    "        fechas.append(fecha[0])\n",
    "        links.append(link)\n",
    "    result = {'Titular' : titulares, 'Diario' : diarios, 'Fechas' : fechas, 'Link' : links}\n",
    "    result = pd.DataFrame(result)\n",
    "    return result"
   ]
  },
  {
   "cell_type": "code",
   "execution_count": 81,
   "metadata": {},
   "outputs": [],
   "source": [
    "from siuba import _"
   ]
  },
  {
   "cell_type": "code",
   "execution_count": 87,
   "metadata": {},
   "outputs": [],
   "source": [
    "def obtiene_noticias_busqueda(dataset_noticias, diccionario_css):\n",
    "    noticias_texto = []\n",
    "    #dataset_noticias_filtrado = dataset_noticias >>\\\n",
    "#        filter(_.Diario.isin(list(diccionario_css.diarios)))\n",
    "    dataset_noticias_filtrado = dataset_noticias.\\\n",
    "        loc[dataset_noticias.Diario.isin(list(diccionario_css.diarios)),:].copy()\n",
    "    for i in range(0,dataset_noticias_filtrado.shape[0]):\n",
    "        noticia = requests.get(list(dataset_noticias_filtrado.Link)[i]).content\n",
    "        diario = list(dataset_noticias_filtrado.Diario)[i]\n",
    "        news_sel = Selector(text = noticia)\n",
    "        css = list(diccionario_css.loc[diccionario_css.diarios==diario,'css'])[0].split('|')\n",
    "        selact = news_sel.css(css[0])\n",
    "        if len(css)!=1:\n",
    "            for j in css[1:len(css)]:\n",
    "                selact = selact.css(j)\n",
    "        selact = selact.css('::text').extract()\n",
    "        text = ' '.join(selact)\n",
    "        noticias_texto.append(text)\n",
    "    dataset_noticias_filtrado['Noticia'] = noticias_texto\n",
    "    return(dataset_noticias_filtrado)"
   ]
  },
  {
   "cell_type": "code",
   "execution_count": 88,
   "metadata": {},
   "outputs": [],
   "source": [
    "gl_result = obtiene_noticias_data('Gasca')"
   ]
  },
  {
   "cell_type": "code",
   "execution_count": 89,
   "metadata": {},
   "outputs": [
    {
     "data": {
      "text/html": [
       "<div>\n",
       "<style scoped>\n",
       "    .dataframe tbody tr th:only-of-type {\n",
       "        vertical-align: middle;\n",
       "    }\n",
       "\n",
       "    .dataframe tbody tr th {\n",
       "        vertical-align: top;\n",
       "    }\n",
       "\n",
       "    .dataframe thead th {\n",
       "        text-align: right;\n",
       "    }\n",
       "</style>\n",
       "<table border=\"1\" class=\"dataframe\">\n",
       "  <thead>\n",
       "    <tr style=\"text-align: right;\">\n",
       "      <th></th>\n",
       "      <th>Titular</th>\n",
       "      <th>Diario</th>\n",
       "      <th>Fechas</th>\n",
       "      <th>Link</th>\n",
       "    </tr>\n",
       "  </thead>\n",
       "  <tbody>\n",
       "    <tr>\n",
       "      <th>0</th>\n",
       "      <td>‘Sentí que el Pichincha se nos venía encima’; ...</td>\n",
       "      <td>El Universo</td>\n",
       "      <td>2022-02-04T23:56:04Z</td>\n",
       "      <td>https://news.google.com/articles/CBMic2h0dHBzO...</td>\n",
       "    </tr>\n",
       "    <tr>\n",
       "      <th>1</th>\n",
       "      <td>Una ‘mega minga’ se realizará el sábado en La ...</td>\n",
       "      <td>El Universo</td>\n",
       "      <td>2022-02-05T05:40:44Z</td>\n",
       "      <td>https://news.google.com/articles/CBMimwFodHRwc...</td>\n",
       "    </tr>\n",
       "    <tr>\n",
       "      <th>2</th>\n",
       "      <td>Un aluvión en Quito dejó al menos 24 muertos y...</td>\n",
       "      <td>infobae</td>\n",
       "      <td>2022-02-02T03:44:40Z</td>\n",
       "      <td>https://news.google.com/articles/CAIiEFu7wPdP9...</td>\n",
       "    </tr>\n",
       "    <tr>\n",
       "      <th>3</th>\n",
       "      <td>Familias despiden a las víctimas mortales del ...</td>\n",
       "      <td>El Universo</td>\n",
       "      <td>2022-02-03T21:39:29Z</td>\n",
       "      <td>https://news.google.com/articles/CBMipQFodHRwc...</td>\n",
       "    </tr>\n",
       "    <tr>\n",
       "      <th>4</th>\n",
       "      <td>Vecinos de La Gasca rescataron a un niño arras...</td>\n",
       "      <td>El Comercio (Ecuador)</td>\n",
       "      <td>2022-02-01T20:02:00Z</td>\n",
       "      <td>https://news.google.com/articles/CBMiZ2h0dHBzO...</td>\n",
       "    </tr>\n",
       "    <tr>\n",
       "      <th>...</th>\n",
       "      <td>...</td>\n",
       "      <td>...</td>\n",
       "      <td>...</td>\n",
       "      <td>...</td>\n",
       "    </tr>\n",
       "    <tr>\n",
       "      <th>94</th>\n",
       "      <td>La concursante de La Isla de las Tentaciones, ...</td>\n",
       "      <td>Infobierzo.com</td>\n",
       "      <td>2021-12-09T08:00:00Z</td>\n",
       "      <td>https://news.google.com/articles/CBMifGh0dHBzO...</td>\n",
       "    </tr>\n",
       "    <tr>\n",
       "      <th>95</th>\n",
       "      <td>Beatriz Gasca recibió máximo reconocimiento ‘D...</td>\n",
       "      <td>Diario Deportivo Récord</td>\n",
       "      <td>2021-12-08T08:00:00Z</td>\n",
       "      <td>https://news.google.com/articles/CAIiELkWNh4p2...</td>\n",
       "    </tr>\n",
       "    <tr>\n",
       "      <th>96</th>\n",
       "      <td>Beatriz Gasca, empresaria resiliente en favor ...</td>\n",
       "      <td>Periódico Excélsior</td>\n",
       "      <td>2021-09-14T23:59:11Z</td>\n",
       "      <td>https://news.google.com/articles/CAIiEB1_DN0O3...</td>\n",
       "    </tr>\n",
       "    <tr>\n",
       "      <th>97</th>\n",
       "      <td>Después de 20 días fue encontrado cuerpo de me...</td>\n",
       "      <td>El Universo</td>\n",
       "      <td>2021-12-01T08:00:00Z</td>\n",
       "      <td>https://news.google.com/articles/CBMihAFodHRwc...</td>\n",
       "    </tr>\n",
       "    <tr>\n",
       "      <th>98</th>\n",
       "      <td>Beatriz Gasca, entre las mexicanas que inspira...</td>\n",
       "      <td>La Crónica de Hoy</td>\n",
       "      <td>2021-11-01T07:00:00Z</td>\n",
       "      <td>https://news.google.com/articles/CBMiWGh0dHBzO...</td>\n",
       "    </tr>\n",
       "  </tbody>\n",
       "</table>\n",
       "<p>99 rows × 4 columns</p>\n",
       "</div>"
      ],
      "text/plain": [
       "                                              Titular  \\\n",
       "0   ‘Sentí que el Pichincha se nos venía encima’; ...   \n",
       "1   Una ‘mega minga’ se realizará el sábado en La ...   \n",
       "2   Un aluvión en Quito dejó al menos 24 muertos y...   \n",
       "3   Familias despiden a las víctimas mortales del ...   \n",
       "4   Vecinos de La Gasca rescataron a un niño arras...   \n",
       "..                                                ...   \n",
       "94  La concursante de La Isla de las Tentaciones, ...   \n",
       "95  Beatriz Gasca recibió máximo reconocimiento ‘D...   \n",
       "96  Beatriz Gasca, empresaria resiliente en favor ...   \n",
       "97  Después de 20 días fue encontrado cuerpo de me...   \n",
       "98  Beatriz Gasca, entre las mexicanas que inspira...   \n",
       "\n",
       "                     Diario                Fechas  \\\n",
       "0               El Universo  2022-02-04T23:56:04Z   \n",
       "1               El Universo  2022-02-05T05:40:44Z   \n",
       "2                   infobae  2022-02-02T03:44:40Z   \n",
       "3               El Universo  2022-02-03T21:39:29Z   \n",
       "4     El Comercio (Ecuador)  2022-02-01T20:02:00Z   \n",
       "..                      ...                   ...   \n",
       "94           Infobierzo.com  2021-12-09T08:00:00Z   \n",
       "95  Diario Deportivo Récord  2021-12-08T08:00:00Z   \n",
       "96      Periódico Excélsior  2021-09-14T23:59:11Z   \n",
       "97              El Universo  2021-12-01T08:00:00Z   \n",
       "98        La Crónica de Hoy  2021-11-01T07:00:00Z   \n",
       "\n",
       "                                                 Link  \n",
       "0   https://news.google.com/articles/CBMic2h0dHBzO...  \n",
       "1   https://news.google.com/articles/CBMimwFodHRwc...  \n",
       "2   https://news.google.com/articles/CAIiEFu7wPdP9...  \n",
       "3   https://news.google.com/articles/CBMipQFodHRwc...  \n",
       "4   https://news.google.com/articles/CBMiZ2h0dHBzO...  \n",
       "..                                                ...  \n",
       "94  https://news.google.com/articles/CBMifGh0dHBzO...  \n",
       "95  https://news.google.com/articles/CAIiELkWNh4p2...  \n",
       "96  https://news.google.com/articles/CAIiEB1_DN0O3...  \n",
       "97  https://news.google.com/articles/CBMihAFodHRwc...  \n",
       "98  https://news.google.com/articles/CBMiWGh0dHBzO...  \n",
       "\n",
       "[99 rows x 4 columns]"
      ]
     },
     "execution_count": 89,
     "metadata": {},
     "output_type": "execute_result"
    }
   ],
   "source": [
    "gl_result"
   ]
  },
  {
   "cell_type": "code",
   "execution_count": 90,
   "metadata": {},
   "outputs": [],
   "source": [
    "diarios_dic = pd.DataFrame({\"diarios\" : [\"El Universo\",\"El Comercio (Ecuador)\",\"Primicias\"], \n",
    "                            \"css\" : ['.prose-text|p','.entry__content|p','#entry-content-inarticle|p']})"
   ]
  },
  {
   "cell_type": "code",
   "execution_count": 91,
   "metadata": {},
   "outputs": [],
   "source": [
    "noticias_df = obtiene_noticias_busqueda(gl_result, diarios_dic)"
   ]
  },
  {
   "cell_type": "markdown",
   "metadata": {},
   "source": [
    "Explorando resultados con las funciones para la noticia de La Gasca"
   ]
  },
  {
   "cell_type": "code",
   "execution_count": 92,
   "metadata": {},
   "outputs": [
    {
     "data": {
      "text/html": [
       "<div>\n",
       "<style scoped>\n",
       "    .dataframe tbody tr th:only-of-type {\n",
       "        vertical-align: middle;\n",
       "    }\n",
       "\n",
       "    .dataframe tbody tr th {\n",
       "        vertical-align: top;\n",
       "    }\n",
       "\n",
       "    .dataframe thead th {\n",
       "        text-align: right;\n",
       "    }\n",
       "</style>\n",
       "<table border=\"1\" class=\"dataframe\">\n",
       "  <thead>\n",
       "    <tr style=\"text-align: right;\">\n",
       "      <th></th>\n",
       "      <th>Titular</th>\n",
       "      <th>Diario</th>\n",
       "      <th>Fechas</th>\n",
       "      <th>Link</th>\n",
       "      <th>Noticia</th>\n",
       "    </tr>\n",
       "  </thead>\n",
       "  <tbody>\n",
       "    <tr>\n",
       "      <th>26</th>\n",
       "      <td>IDV presentará su uniforme y ayudará a los dam...</td>\n",
       "      <td>Primicias</td>\n",
       "      <td>2022-02-02T20:41:09Z</td>\n",
       "      <td>https://news.google.com/articles/CBMiUWh0dHBzO...</td>\n",
       "      <td>IDV organizará un partido entre las Dragonas y...</td>\n",
       "    </tr>\n",
       "  </tbody>\n",
       "</table>\n",
       "</div>"
      ],
      "text/plain": [
       "                                              Titular     Diario  \\\n",
       "26  IDV presentará su uniforme y ayudará a los dam...  Primicias   \n",
       "\n",
       "                  Fechas                                               Link  \\\n",
       "26  2022-02-02T20:41:09Z  https://news.google.com/articles/CBMiUWh0dHBzO...   \n",
       "\n",
       "                                              Noticia  \n",
       "26  IDV organizará un partido entre las Dragonas y...  "
      ]
     },
     "execution_count": 92,
     "metadata": {},
     "output_type": "execute_result"
    }
   ],
   "source": [
    "noticias_df.loc[noticias_df.Diario=='Primicias'].head(1)"
   ]
  },
  {
   "cell_type": "code",
   "execution_count": 93,
   "metadata": {},
   "outputs": [
    {
     "data": {
      "text/html": [
       "<div>\n",
       "<style scoped>\n",
       "    .dataframe tbody tr th:only-of-type {\n",
       "        vertical-align: middle;\n",
       "    }\n",
       "\n",
       "    .dataframe tbody tr th {\n",
       "        vertical-align: top;\n",
       "    }\n",
       "\n",
       "    .dataframe thead th {\n",
       "        text-align: right;\n",
       "    }\n",
       "</style>\n",
       "<table border=\"1\" class=\"dataframe\">\n",
       "  <thead>\n",
       "    <tr style=\"text-align: right;\">\n",
       "      <th></th>\n",
       "      <th>Titular</th>\n",
       "      <th>Diario</th>\n",
       "      <th>Fechas</th>\n",
       "      <th>Link</th>\n",
       "      <th>Noticia</th>\n",
       "    </tr>\n",
       "  </thead>\n",
       "  <tbody>\n",
       "    <tr>\n",
       "      <th>4</th>\n",
       "      <td>Vecinos de La Gasca rescataron a un niño arras...</td>\n",
       "      <td>El Comercio (Ecuador)</td>\n",
       "      <td>2022-02-01T20:02:00Z</td>\n",
       "      <td>https://news.google.com/articles/CBMiZ2h0dHBzO...</td>\n",
       "      <td>Mientras sacan lodo de sus casas y recogen  es...</td>\n",
       "    </tr>\n",
       "  </tbody>\n",
       "</table>\n",
       "</div>"
      ],
      "text/plain": [
       "                                             Titular                 Diario  \\\n",
       "4  Vecinos de La Gasca rescataron a un niño arras...  El Comercio (Ecuador)   \n",
       "\n",
       "                 Fechas                                               Link  \\\n",
       "4  2022-02-01T20:02:00Z  https://news.google.com/articles/CBMiZ2h0dHBzO...   \n",
       "\n",
       "                                             Noticia  \n",
       "4  Mientras sacan lodo de sus casas y recogen  es...  "
      ]
     },
     "execution_count": 93,
     "metadata": {},
     "output_type": "execute_result"
    }
   ],
   "source": [
    "noticias_df.loc[noticias_df.Diario=='El Comercio (Ecuador)'].head(1)"
   ]
  },
  {
   "cell_type": "code",
   "execution_count": 94,
   "metadata": {},
   "outputs": [],
   "source": [
    "noticias_df.to_excel('noticiasGasca.xlsx')"
   ]
  },
  {
   "cell_type": "code",
   "execution_count": null,
   "metadata": {},
   "outputs": [],
   "source": [
    "noticias_df.to_csv('noticiasGasca.csv')"
   ]
  }
 ],
 "metadata": {
  "interpreter": {
   "hash": "bf7d56bc8dda171636123ea3cdb7884a4212a58feb3e22b621d82b79f7b005f4"
  },
  "kernelspec": {
   "display_name": "Python 3.8.0 64-bit",
   "language": "python",
   "name": "python3"
  },
  "language_info": {
   "codemirror_mode": {
    "name": "ipython",
    "version": 3
   },
   "file_extension": ".py",
   "mimetype": "text/x-python",
   "name": "python",
   "nbconvert_exporter": "python",
   "pygments_lexer": "ipython3",
   "version": "3.8.0"
  },
  "orig_nbformat": 4
 },
 "nbformat": 4,
 "nbformat_minor": 2
}
